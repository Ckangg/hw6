{
 "cells": [
  {
   "cell_type": "code",
   "execution_count": 4,
   "metadata": {},
   "outputs": [],
   "source": [
    "import matplotlib.pyplot as plt\n",
    "import numpy as np\n",
    "from numpy.typing import NDArray\n",
    "import scipy "
   ]
  },
  {
   "cell_type": "code",
   "execution_count": 5,
   "metadata": {},
   "outputs": [
    {
     "name": "stdout",
     "output_type": "stream",
     "text": [
      "(50000, 2)\n",
      "(50000,)\n",
      "(5000, 2)\n",
      "(5000,)\n",
      "(1000, 2)\n",
      "(1000,)\n"
     ]
    }
   ],
   "source": [
    "data=np.load('C:\\\\Users\\\\11203\\\\pyStudy\\\\TranFraud\\\\pgm\\\\CAP-5771-s24-hw6-main\\\\CAP-5771-s24-hw6-main\\\\question2_cluster_data.npy')\n",
    "labels=np.load('C:\\\\Users\\\\11203\\\\pyStudy\\\\TranFraud\\\\pgm\\\\CAP-5771-s24-hw6-main\\\\CAP-5771-s24-hw6-main\\\\question2_cluster_labels.npy')\n",
    "print(data.shape)\n",
    "print(labels.shape)\n",
    "n_points = data.shape[0]\n",
    "indices = np.random.choice(n_points, size=5000, replace=False)\n",
    "\n",
    "selected_data = data[indices]\n",
    "selected_labels = labels[indices]\n",
    "print(selected_data.shape)\n",
    "print(selected_labels.shape)\n",
    "list_i=[0,1,2,3,4]\n",
    "slice={}\n",
    "slice_labels={}\n",
    "for i in list_i:\n",
    "    slice[i]=selected_data[i*1000:(i+1)*1000]\n",
    "    slice_labels[i]=selected_labels[i*1000:(i+1)*1000]\n",
    "print(slice[0].shape)\n",
    "print(slice_labels[0].shape)"
   ]
  },
  {
   "cell_type": "code",
   "execution_count": 16,
   "metadata": {},
   "outputs": [],
   "source": [
    "def em_algorithm(data, max_iter):\n",
    "   \n",
    "    # 初始化参数\n",
    "    weights = np.random.rand(2)\n",
    "    weights /= np.sum(weights)\n",
    "    means = np.random.rand(2, 2)\n",
    "    covariances = np.random.rand(2, 2, 2)\n",
    "    log_likelihoods = []\n",
    "\n",
    "    # EM算法迭代过程\n",
    "    for _ in range(max_iter):\n",
    "        # E步：计算每个点属于每个分布的概率\n",
    "        weights_norm = weights / np.sum(weights)\n",
    "        prob = np.zeros((len(data), 2))\n",
    "        for i in range(2):\n",
    "            diff = data - means[i]\n",
    "            cov_inv = np.linalg.inv(covariances[i])\n",
    "            exponent = -0.5 * np.sum(diff @ cov_inv * diff, axis=1)\n",
    "            coef = 1 / (2 * np.pi * np.sqrt(np.linalg.det(covariances[i])))\n",
    "            prob[:, i] = coef * np.exp(exponent)\n",
    "        gamma = prob * weights_norm / np.sum(prob * weights_norm, axis=1)[:, None]\n",
    "\n",
    "        # M步：更新参数\n",
    "        Nk = np.sum(gamma, axis=0)\n",
    "        weights = Nk / len(data)\n",
    "        means = (gamma.T @ data) / Nk[:, None]\n",
    "        covariances = np.zeros((2, 2, 2))\n",
    "        for i in range(2):\n",
    "            diff = data - means[i]\n",
    "            covariances[i] = (gamma[:, i, None] * diff).T @ diff / Nk[i]\n",
    "\n",
    "        # 计算对数似然值并存储\n",
    "        log_likelihood = np.sum(np.log(np.sum(prob * weights_norm, axis=1)))\n",
    "        log_likelihoods.append(log_likelihood)\n",
    "\n",
    "    return weights, means, covariances, log_likelihoods"
   ]
  },
  {
   "cell_type": "code",
   "execution_count": 8,
   "metadata": {},
   "outputs": [
    {
     "name": "stdout",
     "output_type": "stream",
     "text": [
      "(2,)\n",
      "(2, 2)\n",
      "(2, 2, 2)\n"
     ]
    }
   ],
   "source": [
    "em_weights,em_means,em_covariances,em_log_likelihoods =em_algorithm(slice[0], max_iter=100)\n",
    "print(em_weights.shape)\n",
    "print(em_means.shape)\n",
    "print(em_covariances.shape)"
   ]
  },
  {
   "cell_type": "code",
   "execution_count": 15,
   "metadata": {},
   "outputs": [],
   "source": [
    "def run_em_algorithm(data, num_runs):\n",
    "    \n",
    "    weights_sum = np.zeros(2)\n",
    "    means_sum = np.zeros((2, 2))\n",
    "    covariances_sum = np.zeros((2, 2, 2))\n",
    "    log_likelihoods_sum = np.zeros(100)\n",
    "\n",
    "    for _ in range(num_runs):\n",
    "        weights, means, covariances, log_likelihoods = em_algorithm(data)\n",
    "        weights_sum += weights\n",
    "        means_sum += means\n",
    "        covariances_sum += covariances\n",
    "        log_likelihoods_sum += log_likelihoods\n",
    "\n",
    "    weights_avg = weights_sum / num_runs\n",
    "    means_avg = means_sum / num_runs\n",
    "    covariances_avg = covariances_sum / num_runs\n",
    "    log_likelihoods_avg = log_likelihoods_sum / num_runs\n",
    "\n",
    "    return {\n",
    "        \"weights_avg\": weights_avg,\n",
    "        \"means_avg\": means_avg,\n",
    "        \"covariances_avg\": covariances_avg,\n",
    "        \"log_likelihoods_avg\": log_likelihoods_avg\n",
    "    }"
   ]
  },
  {
   "cell_type": "code",
   "execution_count": 14,
   "metadata": {},
   "outputs": [
    {
     "name": "stderr",
     "output_type": "stream",
     "text": [
      "C:\\Users\\11203\\AppData\\Local\\Temp\\ipykernel_16604\\1621800549.py:31: RuntimeWarning: invalid value encountered in sqrt\n",
      "  coef = 1 / (2 * np.pi * np.sqrt(np.linalg.det(covariances[i])))\n",
      "C:\\Users\\11203\\AppData\\Local\\Temp\\ipykernel_16604\\1621800549.py:32: RuntimeWarning: overflow encountered in exp\n",
      "  prob[:, i] = coef * np.exp(exponent)\n"
     ]
    },
    {
     "data": {
      "text/plain": [
       "{'weights_avg': array([nan, nan]),\n",
       " 'means_avg': array([[nan, nan],\n",
       "        [nan, nan]]),\n",
       " 'covariances_avg': array([[[nan, nan],\n",
       "         [nan, nan]],\n",
       " \n",
       "        [[nan, nan],\n",
       "         [nan, nan]]]),\n",
       " 'log_likelihoods_avg': array([nan, nan, nan, nan, nan, nan, nan, nan, nan, nan, nan, nan, nan,\n",
       "        nan, nan, nan, nan, nan, nan, nan, nan, nan, nan, nan, nan, nan,\n",
       "        nan, nan, nan, nan, nan, nan, nan, nan, nan, nan, nan, nan, nan,\n",
       "        nan, nan, nan, nan, nan, nan, nan, nan, nan, nan, nan, nan, nan,\n",
       "        nan, nan, nan, nan, nan, nan, nan, nan, nan, nan, nan, nan, nan,\n",
       "        nan, nan, nan, nan, nan, nan, nan, nan, nan, nan, nan, nan, nan,\n",
       "        nan, nan, nan, nan, nan, nan, nan, nan, nan, nan, nan, nan, nan,\n",
       "        nan, nan, nan, nan, nan, nan, nan, nan, nan])}"
      ]
     },
     "execution_count": 14,
     "metadata": {},
     "output_type": "execute_result"
    }
   ],
   "source": [
    "results=run_em_algorithm(slice[0],num_runs=10)\n",
    "results"
   ]
  }
 ],
 "metadata": {
  "kernelspec": {
   "display_name": "Python 3",
   "language": "python",
   "name": "python3"
  },
  "language_info": {
   "codemirror_mode": {
    "name": "ipython",
    "version": 3
   },
   "file_extension": ".py",
   "mimetype": "text/x-python",
   "name": "python",
   "nbconvert_exporter": "python",
   "pygments_lexer": "ipython3",
   "version": "3.11.9"
  }
 },
 "nbformat": 4,
 "nbformat_minor": 2
}
